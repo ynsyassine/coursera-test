{
 "cells": [
  {
   "cell_type": "markdown",
   "id": "9cef670d-d223-4cee-a7d2-5cd0e951cafb",
   "metadata": {},
   "source": [
    "# Data Science Tools and Ecosystem"
   ]
  },
  {
   "cell_type": "markdown",
   "id": "2abdd081-1b21-448a-9fc5-bb1847a094a5",
   "metadata": {},
   "source": [
    "In this notebook, Data Science Tools and Ecosystem are summarized."
   ]
  },
  {
   "cell_type": "markdown",
   "id": "a1ac1c3d-2998-4a86-bb7b-c0f4ea0279f8",
   "metadata": {},
   "source": [
    "Some of the popular languages that Data Scientists use are:\n",
    "1. Python \n",
    "2. R \n",
    "3. SQL "
   ]
  },
  {
   "cell_type": "markdown",
   "id": "28e74502-b941-4bb8-92bb-224375a1da16",
   "metadata": {},
   "source": [
    "Some of the commonly used libraries used by Data Scientists include:\n",
    "1. numpy \n",
    "2. pandas \n",
    "3. scikit-learn"
   ]
  },
  {
   "cell_type": "markdown",
   "id": "f4558633-3b37-41df-b67c-03cd5b676e24",
   "metadata": {},
   "source": [
    "| Data Science Tools |\n",
    "|--------------------|\n",
    "| Python             |\n",
    "| R                  |\n",
    "| SQL                |\n",
    "| TensorFlow         |\n",
    "| Tableau            |\n"
   ]
  },
  {
   "cell_type": "markdown",
   "id": "4157e7a8-e3ef-438c-8c9b-893be791999c",
   "metadata": {},
   "source": [
    "### Below are a few examples of evaluating arithmetic expressions in Python.\n"
   ]
  },
  {
   "cell_type": "code",
   "execution_count": 1,
   "id": "36d1485e-6f0d-4c00-92a9-d33346d594af",
   "metadata": {
    "tags": []
   },
   "outputs": [
    {
     "data": {
      "text/plain": [
       "17"
      ]
     },
     "execution_count": 1,
     "metadata": {},
     "output_type": "execute_result"
    }
   ],
   "source": [
    "#This a simple arithmetic expression to mutiply then add integers\n",
    "(3*4)+5"
   ]
  },
  {
   "cell_type": "code",
   "execution_count": 2,
   "id": "ac93d845-579c-44ff-a26d-41c5a9fd8947",
   "metadata": {
    "tags": []
   },
   "outputs": [
    {
     "data": {
      "text/plain": [
       "3.3333333333333335"
      ]
     },
     "execution_count": 2,
     "metadata": {},
     "output_type": "execute_result"
    }
   ],
   "source": [
    "#This will convert 200 minutes to hours by diving by 60\n",
    "200/60"
   ]
  },
  {
   "cell_type": "markdown",
   "id": "b2359f59-ee6b-40a8-a2b8-0ed790cbf2e0",
   "metadata": {},
   "source": [
    "**Objectives:**\n",
    "\n",
    "- List popular languages for Data Science\n",
    "- Introduce arithmetic expression examples\n",
    "- Explore Data Science tools\n",
    "\n",
    "\n"
   ]
  },
  {
   "cell_type": "markdown",
   "id": "c9b62a04-990d-4084-b3d0-3add04849da7",
   "metadata": {},
   "source": [
    "## Author \n",
    "YASSINE EL BOUSTANI"
   ]
  },
  {
   "cell_type": "code",
   "execution_count": null,
   "id": "abaee814-bfd9-4964-a44e-3cd7f33e9d9e",
   "metadata": {},
   "outputs": [],
   "source": []
  }
 ],
 "metadata": {
  "kernelspec": {
   "display_name": "Python",
   "language": "python",
   "name": "conda-env-python-py"
  },
  "language_info": {
   "codemirror_mode": {
    "name": "ipython",
    "version": 3
   },
   "file_extension": ".py",
   "mimetype": "text/x-python",
   "name": "python",
   "nbconvert_exporter": "python",
   "pygments_lexer": "ipython3",
   "version": "3.7.12"
  }
 },
 "nbformat": 4,
 "nbformat_minor": 5
}
